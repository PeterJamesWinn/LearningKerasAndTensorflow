{
 "cells": [
  {
   "cell_type": "code",
   "execution_count": null,
   "metadata": {},
   "outputs": [],
   "source": []
  },
  {
   "cell_type": "code",
   "execution_count": 1,
   "metadata": {},
   "outputs": [],
   "source": [
    "import tensorflow as tf\n",
    "import matplotlib as plt\n",
    "import numpy as np\n",
    "\n"
   ]
  },
  {
   "cell_type": "code",
   "execution_count": 2,
   "metadata": {},
   "outputs": [
    {
     "name": "stdout",
     "output_type": "stream",
     "text": [
      "tf.Tensor(\n",
      "[[1. 2. 3.]\n",
      " [4. 5. 6.]], shape=(2, 3), dtype=float32)\n",
      "shape: (2, 3) data type: <dtype: 'float32'>\n",
      "tf.Tensor(\n",
      "[[14. 32.]\n",
      " [32. 77.]], shape=(2, 2), dtype=float32)\n",
      "tf.Tensor(\n",
      "[[1. 2. 3.]\n",
      " [4. 5. 6.]\n",
      " [1. 2. 3.]\n",
      " [4. 5. 6.]\n",
      " [1. 2. 3.]\n",
      " [4. 5. 6.]], shape=(6, 3), dtype=float32)\n",
      "double [[ 2.  4.  6.]\n",
      " [ 8. 10. 12.]]: quintle: [[ 5. 10. 15.]\n",
      " [20. 25. 30.]]\n",
      "tf.Tensor(4, shape=(), dtype=int32)\n",
      "tf.Tensor([2 3 4], shape=(3,), dtype=int32)\n",
      "tf.Tensor([2. 3. 4.], shape=(3,), dtype=float32)\n",
      "tf.Tensor([2. 3. 4.], shape=(3,), dtype=float16)\n",
      "tf.Tensor(\n",
      "[[1. 2.]\n",
      " [3. 4.]\n",
      " [5. 6.]], shape=(3, 2), dtype=float16)\n",
      "tf.Tensor(\n",
      "[[[ 0  1  2  3  4]\n",
      "  [ 5  6  7  8  9]]\n",
      "\n",
      " [[10 11 12 13 14]\n",
      "  [15 16 17 18 19]]\n",
      "\n",
      " [[20 21 22 23 24]\n",
      "  [25 26 27 28 29]]], shape=(3, 2, 5), dtype=int32)\n",
      "rank_2_tensor_as_array [[1. 2.]\n",
      " [3. 4.]\n",
      " [5. 6.]]\n",
      "tf.Tensor(\n",
      "[[2 3]\n",
      " [4 5]], shape=(2, 2), dtype=int32) \n",
      "\n",
      "tf.Tensor(\n",
      "[[2 3]\n",
      " [4 5]], shape=(2, 2), dtype=int32) \n",
      "\n",
      "tf.Tensor(\n",
      "[[1 2]\n",
      " [3 4]], shape=(2, 2), dtype=int32) \n",
      "\n",
      "tf.Tensor(\n",
      "[[1 2]\n",
      " [3 4]], shape=(2, 2), dtype=int32) \n",
      "\n",
      "tf.Tensor(\n",
      "[[3 3]\n",
      " [7 7]], shape=(2, 2), dtype=int32) \n",
      "\n",
      "tf.Tensor(\n",
      "[[3 3]\n",
      " [7 7]], shape=(2, 2), dtype=int32) \n",
      "\n",
      "tf.Tensor(10.0, shape=(), dtype=float32)\n",
      "tf.Tensor([1 0], shape=(2,), dtype=int64)\n",
      "tf.Tensor(\n",
      "[[2.6894143e-01 7.3105860e-01]\n",
      " [9.9987662e-01 1.2339458e-04]], shape=(2, 2), dtype=float32)\n"
     ]
    }
   ],
   "source": [
    "\n",
    "x = tf.constant([[1.,2.,3.],[4., 5., 6.]])\n",
    "print(x)\n",
    "print(\"shape: {} data type: {}\".format(x.shape, x.dtype))\n",
    "\n",
    "double = x + x\n",
    "quintle = 5 * x\n",
    "print(x @ tf.transpose(x)) # matrix multiplication \n",
    "print(tf.concat([x, x, x], axis=0))\n",
    "print(\"double {}: quintle: {}\".format(double, quintle))\n",
    "\n",
    "\n",
    "rank_0_tensor = tf.constant(4)\n",
    "print(rank_0_tensor)\n",
    "\n",
    "rank_1_tensor = tf.constant([2, 3, 4])\n",
    "print(rank_1_tensor)\n",
    "\n",
    "rank_1_tensor = tf.constant([2.0, 3.0, 4.0])\n",
    "print(rank_1_tensor)\n",
    "\n",
    "rank_1_tensor = tf.constant([2.0, 3.0, 4.0], dtype=tf.float16)\n",
    "print(rank_1_tensor)\n",
    "\n",
    "rank_2_tensor = tf.constant([[1, 2],\n",
    "                             [3, 4],\n",
    "                             [5, 6]], dtype=tf.float16)\n",
    "print(rank_2_tensor)\n",
    "\n",
    "rank_3_tensor = tf.constant([\n",
    "  [[0, 1, 2, 3, 4],\n",
    "   [5, 6, 7, 8, 9]],\n",
    "  [[10, 11, 12, 13, 14],\n",
    "   [15, 16, 17, 18, 19]],\n",
    "  [[20, 21, 22, 23, 24],\n",
    "   [25, 26, 27, 28, 29]],])\n",
    "\n",
    "print(rank_3_tensor)\n",
    "\n",
    "rank_2_tensor_as_array = np.array(rank_2_tensor)\n",
    "print(\"rank_2_tensor_as_array {}\".format(rank_2_tensor_as_array) )\n",
    "\n",
    "\n",
    "\n",
    "a = tf.constant([[1, 2],\n",
    "                 [3, 4]])\n",
    "b = tf.constant([[1, 1],\n",
    "                 [1, 1]]) # Could have also said `tf.ones([2,2])`\n",
    "\n",
    "print(tf.add(a, b), \"\\n\")\n",
    "print(a + b, \"\\n\")\n",
    "print(tf.multiply(a, b), \"\\n\") # elementwise multiplication\n",
    "print(a* b, \"\\n\")\n",
    "print(tf.matmul(a, b), \"\\n\") # matrix multiplication\n",
    "print(a @ b, \"\\n\")\n",
    "\n",
    "c = tf.constant([[4.0, 5.0], [10.0, 1.0]])\n",
    "\n",
    "# Find the largest value\n",
    "print(tf.reduce_max(c))\n",
    "# Find the index of the largest value\n",
    "print(tf.argmax(c))\n",
    "# Compute the softmax\n",
    "print(tf.nn.softmax(c))"
   ]
  },
  {
   "cell_type": "code",
   "execution_count": 3,
   "metadata": {},
   "outputs": [
    {
     "name": "stdout",
     "output_type": "stream",
     "text": [
      "Type of every element: <dtype: 'float32'>\n",
      "Number of axes: 4\n",
      "Shape of tensor: (3, 2, 4, 5)\n",
      "Elements along axis 0 of tensor: 3\n",
      "Elements along the last axis of tensor: 5\n",
      "Total number of elements (3*2*4*5):  120\n"
     ]
    }
   ],
   "source": [
    "rank_4_tensor = tf.zeros([3, 2, 4, 5])\n",
    "\n",
    "print(\"Type of every element:\", rank_4_tensor.dtype)\n",
    "print(\"Number of axes:\", rank_4_tensor.ndim)\n",
    "print(\"Shape of tensor:\", rank_4_tensor.shape)\n",
    "print(\"Elements along axis 0 of tensor:\", rank_4_tensor.shape[0])\n",
    "print(\"Elements along the last axis of tensor:\", rank_4_tensor.shape[-1])\n",
    "print(\"Total number of elements (3*2*4*5): \", tf.size(rank_4_tensor).numpy())"
   ]
  },
  {
   "cell_type": "code",
   "execution_count": 7,
   "metadata": {},
   "outputs": [
    {
     "name": "stdout",
     "output_type": "stream",
     "text": [
      "[ 0  1  1  2  3  5  8 13 21 34]\n",
      "First: tf.Tensor(0, shape=(), dtype=int32)\n",
      "First: 0\n",
      "Fourth: 2\n",
      "Last: 34\n"
     ]
    }
   ],
   "source": [
    "rank_1_tensor = tf.constant([0, 1, 1, 2, 3, 5, 8, 13, 21, 34])\n",
    "print(rank_1_tensor.numpy())\n",
    "\n",
    "print(\"First:\", rank_1_tensor[0])\n",
    "print(\"First:\", rank_1_tensor[0].numpy())  # .numpy() converts to numpy array which gives cleaner output c.f. above.\n",
    "print(\"Fourth:\", rank_1_tensor[3].numpy())\n",
    "print(\"Last:\", rank_1_tensor[-1].numpy())"
   ]
  },
  {
   "cell_type": "code",
   "execution_count": 15,
   "metadata": {},
   "outputs": [
    {
     "name": "stdout",
     "output_type": "stream",
     "text": [
      "Everything: [ 0  1  1  2  3  5  8 13 21 34]\n",
      "Before 4: [0 1 1 2]\n",
      "From 4 to the end: [ 3  5  8 13 21 34]\n",
      "From 2, before 7: [1 2 3 5 8]\n",
      "Every other item: [ 0  1  3  8 21]\n",
      "Reversed: [34 21 13  8  5  3  2  1  1  0]\n",
      "[[1. 2.]\n",
      " [3. 4.]\n",
      " [5. 6.]]\n",
      "4.0\n"
     ]
    }
   ],
   "source": [
    "print(\"Everything:\", rank_1_tensor[:].numpy())\n",
    "print(\"Before 4:\", rank_1_tensor[:4].numpy())\n",
    "print(\"From 4 to the end:\", rank_1_tensor[4:].numpy())\n",
    "print(\"From 2, before 7:\", rank_1_tensor[2:7].numpy())\n",
    "print(\"Every other item:\", rank_1_tensor[::2].numpy())\n",
    "print(\"Reversed:\", rank_1_tensor[::-1].numpy())\n",
    "\n",
    "print(rank_2_tensor.numpy())\n",
    "print(rank_2_tensor[1, 1].numpy())\n"
   ]
  },
  {
   "cell_type": "code",
   "execution_count": 36,
   "metadata": {},
   "outputs": [
    {
     "name": "stdout",
     "output_type": "stream",
     "text": [
      "Second row: [5 6 7 8]\n",
      "Second column: [ 2  6 10]\n",
      "First row: [1 2 3 4]\n",
      "First two rows: [[1 2 3 4]\n",
      " [5 6 7 8]]\n",
      "First two columns: [[ 1  2]\n",
      " [ 5  6]\n",
      " [ 9 10]]\n",
      "Last row: [ 9 10 11 12]\n",
      "First item in last column: 4\n",
      "Skip the first row:\n",
      "[[ 5  6  7  8]\n",
      " [ 9 10 11 12]] \n",
      "\n"
     ]
    }
   ],
   "source": [
    "rank_2_tensor = tf.constant([[1, 2, 3, 4],[5, 6, 7, 8], [9, 10, 11, 12]])\n",
    "\n",
    "# Get row and column tensors\n",
    "print(\"Second row:\", rank_2_tensor[1, :].numpy())\n",
    "print(\"Second column:\", rank_2_tensor[:,1].numpy())\n",
    "print(\"First row:\", rank_2_tensor[0, :].numpy())\n",
    "print(\"First two rows:\", rank_2_tensor[0: 2].numpy())\n",
    "print(\"First two columns:\", rank_2_tensor[: ,0:2].numpy())\n",
    "print(\"Last row:\", rank_2_tensor[-1, :].numpy())\n",
    "print(\"First item in last column:\", rank_2_tensor[0, -1].numpy())\n",
    "print(\"Skip the first row:\")\n",
    "print(rank_2_tensor[1:, :].numpy(), \"\\n\")"
   ]
  },
  {
   "cell_type": "code",
   "execution_count": 37,
   "metadata": {},
   "outputs": [
    {
     "name": "stdout",
     "output_type": "stream",
     "text": [
      "tf.Tensor(\n",
      "[[ 4  9]\n",
      " [14 19]\n",
      " [24 29]], shape=(3, 2), dtype=int32)\n"
     ]
    }
   ],
   "source": [
    "rank_3_tensor = tf.constant([\n",
    "  [[0, 1, 2, 3, 4],\n",
    "   [5, 6, 7, 8, 9]],\n",
    "  [[10, 11, 12, 13, 14],\n",
    "   [15, 16, 17, 18, 19]],\n",
    "  [[20, 21, 22, 23, 24],\n",
    "   [25, 26, 27, 28, 29]],])\n",
    "\n",
    "print(rank_3_tensor[:, :, 4])\n",
    "\n"
   ]
  },
  {
   "cell_type": "code",
   "execution_count": 40,
   "metadata": {},
   "outputs": [
    {
     "name": "stdout",
     "output_type": "stream",
     "text": [
      "(3, 1)\n",
      "[3, 1]\n",
      "tf.Tensor(\n",
      "[[1]\n",
      " [2]\n",
      " [3]], shape=(3, 1), dtype=int32)\n",
      "tf.Tensor([[1 2 3]], shape=(1, 3), dtype=int32)\n",
      "(1, 3)\n"
     ]
    }
   ],
   "source": [
    "x = tf.constant([[1],[2],[3]])\n",
    "print(x.shape)\n",
    "print(x.shape.as_list())\n",
    "print(x)\n",
    "\n",
    "reshaped = tf.reshape(x, [1,3])\n",
    "\n",
    "print(reshaped)\n",
    "print(reshaped.shape)\n"
   ]
  },
  {
   "cell_type": "code",
   "execution_count": 41,
   "metadata": {},
   "outputs": [
    {
     "name": "stdout",
     "output_type": "stream",
     "text": [
      "tf.Tensor(\n",
      "[[[ 0  1  2  3  4]\n",
      "  [ 5  6  7  8  9]]\n",
      "\n",
      " [[10 11 12 13 14]\n",
      "  [15 16 17 18 19]]\n",
      "\n",
      " [[20 21 22 23 24]\n",
      "  [25 26 27 28 29]]], shape=(3, 2, 5), dtype=int32)\n",
      "tf.Tensor(\n",
      "[ 0  1  2  3  4  5  6  7  8  9 10 11 12 13 14 15 16 17 18 19 20 21 22 23\n",
      " 24 25 26 27 28 29], shape=(30,), dtype=int32)\n"
     ]
    }
   ],
   "source": [
    "print(rank_3_tensor)\n",
    "print(tf.reshape(rank_3_tensor, [-1]))\n",
    "print(rank_3_tensor)"
   ]
  },
  {
   "cell_type": "code",
   "execution_count": 1,
   "metadata": {},
   "outputs": [
    {
     "ename": "NameError",
     "evalue": "name 'tf' is not defined",
     "output_type": "error",
     "traceback": [
      "\u001b[1;31m---------------------------------------------------------------------------\u001b[0m",
      "\u001b[1;31mNameError\u001b[0m                                 Traceback (most recent call last)",
      "\u001b[1;32m~\\AppData\\Local\\Temp/ipykernel_12904/3025439011.py\u001b[0m in \u001b[0;36m<module>\u001b[1;34m\u001b[0m\n\u001b[1;32m----> 1\u001b[1;33m \u001b[0mx\u001b[0m \u001b[1;33m=\u001b[0m \u001b[0mtf\u001b[0m\u001b[1;33m.\u001b[0m\u001b[0mzeros\u001b[0m\u001b[1;33m(\u001b[0m\u001b[1;36m3\u001b[0m\u001b[1;33m,\u001b[0m\u001b[1;36m2\u001b[0m\u001b[1;33m)\u001b[0m\u001b[1;33m\u001b[0m\u001b[1;33m\u001b[0m\u001b[0m\n\u001b[0m\u001b[0;32m      2\u001b[0m \u001b[0my\u001b[0m \u001b[1;33m=\u001b[0m \u001b[0mtf\u001b[0m\u001b[1;33m.\u001b[0m\u001b[0mVariable\u001b[0m\u001b[1;33m(\u001b[0m\u001b[0mx\u001b[0m\u001b[1;33m)\u001b[0m\u001b[1;33m\u001b[0m\u001b[1;33m\u001b[0m\u001b[0m\n\u001b[0;32m      3\u001b[0m \u001b[0mprint\u001b[0m\u001b[1;33m(\u001b[0m\u001b[0mx\u001b[0m\u001b[1;33m[\u001b[0m\u001b[1;36m0\u001b[0m\u001b[1;33m,\u001b[0m\u001b[1;36m1\u001b[0m\u001b[1;33m]\u001b[0m\u001b[1;33m)\u001b[0m\u001b[1;33m\u001b[0m\u001b[1;33m\u001b[0m\u001b[0m\n\u001b[0;32m      4\u001b[0m \u001b[0mprint\u001b[0m\u001b[1;33m(\u001b[0m\u001b[0mx\u001b[0m\u001b[1;33m,\u001b[0m \u001b[0my\u001b[0m\u001b[1;33m)\u001b[0m\u001b[1;33m\u001b[0m\u001b[1;33m\u001b[0m\u001b[0m\n",
      "\u001b[1;31mNameError\u001b[0m: name 'tf' is not defined"
     ]
    }
   ],
   "source": [
    "x = tf.zeros(3,2)\n",
    "y = tf.Variable(x)\n",
    "print(x[0,1])\n",
    "print(x, y)\n"
   ]
  },
  {
   "cell_type": "code",
   "execution_count": null,
   "metadata": {},
   "outputs": [],
   "source": [
    "def create_sample_tensor() -> Tensor:\n",
    "    \"\"\"\n",
    "    Return a  Tensor of shape (3, 2) which is filled with zeros, except\n",
    "    for element (0, 1) which is set to 10 and element (1, 0) which is set to\n",
    "    100.\n",
    "\n",
    "    Returns:\n",
    "        Tensor of shape (3, 2) as described above.\n",
    "    \"\"\"\n",
    "    x = tf.zeros(3,2)\n",
    "    x[0,1] = 10\n",
    "    x[1,0] = 100\n",
    "   \n",
    "   \n",
    "    return x\n",
    "\n",
    "\n",
    "def mutate_tensor(\n",
    "    x: Tensor, indices: List[Tuple[int, int]], values: List[float]\n",
    ") -> Tensor:\n",
    "    \"\"\"\n",
    "    Mutate the tensor x according to indices and values. Specifically, indices\n",
    "    is a list [(i0, j0), (i1, j1), ... ] of integer indices, and values is a\n",
    "    list [v0, v1, ...] of values. This function should mutate x by setting:\n",
    "\n",
    "    x[i0, j0] = v0\n",
    "    x[i1, j1] = v1\n",
    "\n",
    "    and so on.\n",
    "\n",
    "    If the same index pair appears multiple times in indices, you should set x\n",
    "    to the last one.\n",
    "\n",
    "    Args:\n",
    "        x: A Tensor of shape (H, W)\n",
    "        indices: A list of N tuples [(i0, j0), (i1, j1), ..., ]\n",
    "        values: A list of N values [v0, v1, ...]\n",
    "\n",
    "    Returns:\n",
    "        The input tensor x\n",
    "    \"\"\"\n",
    "    ##########################################################################\n",
    "    #                     TODO: Implement this function                      #\n",
    "    ##########################################################################\n",
    "    # Replace \"pass\" statement with your code\n",
    "    pass\n",
    "    ##########################################################################\n",
    "    #                            END OF YOUR CODE                            #\n",
    "    ##########################################################################\n",
    "    return x\n",
    "\n",
    "\n",
    "def count_tensor_elements(x: Tensor) -> int:\n",
    "    \"\"\"\n",
    "    Count the number of scalar elements in a tensor x.\n",
    "\n",
    "    For example, a tensor of shape (10,) has 10 elements; a tensor of shape\n",
    "    (3, 4) has 12 elements; a tensor of shape (2, 3, 4) has 24 elements, etc.\n",
    "\n",
    "    You may not use the functions torch.numel or x.numel. The input tensor\n",
    "    should not be modified.\n",
    "\n",
    "    Args:\n",
    "        x: A tensor of any shape\n",
    "\n",
    "    Returns:\n",
    "        num_elements: An integer giving the number of scalar elements in x\n",
    "    \"\"\"\n",
    "    num_elements = None\n",
    "    ##########################################################################\n",
    "    #                      TODO: Implement this function                     #\n",
    "    #   You CANNOT use the built-in functions torch.numel(x) or x.numel().   #\n",
    "    ##########################################################################\n",
    "    # Replace \"pass\" statement with your code\n",
    "    pass\n",
    "    ##########################################################################\n",
    "    #                            END OF YOUR CODE                            #\n",
    "    ##########################################################################\n",
    "    return num_elements\n",
    "\n",
    "\n",
    "def create_tensor_of_pi(M: int, N: int) -> Tensor:\n",
    "    \"\"\"\n",
    "    Returns a Tensor of shape (M, N) filled entirely with the value 3.14\n",
    "\n",
    "    Args:\n",
    "        M, N: Positive integers giving the shape of Tensor to create\n",
    "\n",
    "    Returns:\n",
    "        x: A tensor of shape (M, N) filled with the value 3.14\n",
    "    \"\"\"\n",
    "    x = None\n",
    "    ##########################################################################\n",
    "    #         TODO: Implement this function. It should take one line.        #\n",
    "    ##########################################################################\n",
    "    # Replace \"pass\" statement with your code\n",
    "    pass\n",
    "    ##########################################################################\n",
    "    #                            END OF YOUR CODE                            #\n",
    "    ##########################################################################\n",
    "    return x\n",
    "\n",
    "\n",
    "# Create a sample tensor\n",
    "x = create_sample_tensor()\n",
    "print('Here is the sample tensor:')\n",
    "print(x)\n",
    "\n",
    "# Mutate the tensor by setting a few elements\n",
    "indices = [(0, 0), (1, 0), (1, 1)]\n",
    "values = [4, 5, 6]\n",
    "mutate_tensor(x, indices, values)\n",
    "print('\\nAfter mutating:')\n",
    "print(x)\n",
    "print('\\nCorrect shape: ', x.shape == (3, 2))\n",
    "print('x[0, 0] correct: ', x[0, 0].item() == 4)\n",
    "print('x[1, 0] correct: ', x[1, 0].item() == 5)\n",
    "print('x[1, 1] correct: ', x[1, 1].item() == 6)\n",
    "\n",
    "# Check the number of elements in the sample tensor\n",
    "num = count_tensor_elements(x)\n",
    "print('\\nNumber of elements in x: ', num)\n",
    "print('Correctly counted: ', num == 6)"
   ]
  }
 ],
 "metadata": {
  "interpreter": {
   "hash": "bbba869515c57faf23f25f232af608013d7bb4340e6019b7ef16dbefe3624b8e"
  },
  "kernelspec": {
   "display_name": "Python 3.10.0 64-bit",
   "language": "python",
   "name": "python3"
  },
  "language_info": {
   "codemirror_mode": {
    "name": "ipython",
    "version": 3
   },
   "file_extension": ".py",
   "mimetype": "text/x-python",
   "name": "python",
   "nbconvert_exporter": "python",
   "pygments_lexer": "ipython3",
   "version": "3.10.0"
  },
  "orig_nbformat": 4
 },
 "nbformat": 4,
 "nbformat_minor": 2
}
